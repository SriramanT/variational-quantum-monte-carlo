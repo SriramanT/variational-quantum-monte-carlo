{
 "metadata": {
  "name": ""
 },
 "nbformat": 3,
 "nbformat_minor": 0,
 "worksheets": [
  {
   "cells": [
    {
     "cell_type": "heading",
     "level": 1,
     "metadata": {},
     "source": [
      "Variational Monte Carlo (VMC)"
     ]
    },
    {
     "cell_type": "code",
     "collapsed": false,
     "input": [
      "import numpy as np\n",
      "import matplotlib.pyplot as plt\n",
      "from __future__ import division\n",
      "\n",
      "import theano\n",
      "import theano.tensor as T"
     ],
     "language": "python",
     "metadata": {},
     "outputs": [],
     "prompt_number": 1
    },
    {
     "cell_type": "heading",
     "level": 1,
     "metadata": {},
     "source": [
      "Harmonic Oscillator"
     ]
    },
    {
     "cell_type": "code",
     "collapsed": false,
     "input": [
      "steps = 30000\n",
      "eq_steps = 4000\n",
      "N = 300\n",
      "N_alpha = 10\n",
      "alpha_min = 0.45\n",
      "alpha_max = 0.55\n",
      "alphas = np.linspace(alpha_min,alpha_max,N_alpha)\n",
      "E = np.zeros(steps)\n",
      "E_array = np.zeros((N_alpha,steps - eq_steps))"
     ],
     "language": "python",
     "metadata": {},
     "outputs": [],
     "prompt_number": 9
    },
    {
     "cell_type": "code",
     "collapsed": false,
     "input": [
      "# just for the HO, analytic calculations\n",
      "alphas_analytic = np.linspace(alpha_min,alpha_max, 100)\n",
      "def E_analytic(alpha):\n",
      "    return 0.5*alpha+1/(8*alpha)\n",
      "def E_analytic_error(alpha):\n",
      "    return (1-4*alpha**2)**2/(32*alpha**2)"
     ],
     "language": "python",
     "metadata": {},
     "outputs": [],
     "prompt_number": 10
    },
    {
     "cell_type": "code",
     "collapsed": false,
     "input": [
      "# Harmonic Oscillator\n",
      "def transition_probability(x, x_new, alpha): #transition probability\n",
      "    return np.exp(-2*alpha*(x_new**2-x**2))\n",
      "def E_local(x, alpha):\n",
      "    return alpha + x**2 * (0.5 - 2.0 * alpha**2)"
     ],
     "language": "python",
     "metadata": {},
     "outputs": [],
     "prompt_number": 11
    },
    {
     "cell_type": "code",
     "collapsed": false,
     "input": [
      "# Harmonic Oscillator\n",
      "width = 1.0\n",
      "for i in range(len(alphas)):\n",
      "    x = np.random.rand(N)-.5 # postitions of the walkers\n",
      "    counter = 0\n",
      "    E = np.zeros(steps)\n",
      "    for step in range(steps):\n",
      "        rnd_uni = np.random.rand(N)\n",
      "        rnd_uni2 = np.random.rand(N) - 0.5\n",
      "        x_new = x + rnd_uni2 * width\n",
      "        indices = (rnd_uni < transition_probability(x, x_new, alphas[i]))\n",
      "        counter += np.sum(indices)\n",
      "        x[indices] = x_new[indices]\n",
      "        if (step >= eq_steps):\n",
      "            E[step] = np.sum(E_local(x, alphas[i]))\n",
      "        if (step%100 == 0):\n",
      "            width = width * counter / (50 * N)\n",
      "            counter = 0\n",
      "    E_array[i,] = E[eq_steps:steps]"
     ],
     "language": "python",
     "metadata": {},
     "outputs": [],
     "prompt_number": 12
    },
    {
     "cell_type": "code",
     "collapsed": false,
     "input": [
      "E_avg = np.mean(E_array, axis=1)/N\n",
      "E_var = np.var(E_array, axis=1)/N\n",
      "min_x_idx = np.argmin(E_avg)\n",
      "min_x = alphas[min_x_idx]\n",
      "min_y = E_avg[min_x_idx]\n",
      "\n",
      "plt.subplot(3,1,1)\n",
      "plt.ylabel(r'Energy $\\left\\langle E \\right\\rangle$')\n",
      "plt.xlabel(r'$\\alpha$')\n",
      "plt.plot(alphas, E_avg, 'r-p', label=r'$\\left\\langle E \\right\\rangle$ for a Harmonic oscillator')\n",
      "plt.plot(alphas_analytic, E_analytic(alphas_analytic), 'g', label=r'Analytic function for $\\left\\langle E \\right\\rangle$')\n",
      "plt.plot(min_x,min_y, 'ro',markersize=10)\n",
      "plt.legend()\n",
      "\n",
      "plt.subplot(3,1,2)\n",
      "plt.ylabel(r'Variance $\\left\\langle E^2 \\right\\rangle - \\left\\langle E \\right\\rangle^2$')\n",
      "plt.xlabel(r'$\\alpha$')\n",
      "plt.plot(alphas, E_var, 'r-p', label=r'$\\left\\langle E^2 \\right\\rangle - \\left\\langle E \\right\\rangle^2$ for a Harmonic oscillator')\n",
      "plt.plot(alphas_analytic, E_analytic_error(alphas_analytic), 'g', label=r'Analytic function for $\\left\\langle E^2 \\right\\rangle - \\left\\langle E \\right\\rangle^2$')\n",
      "plt.legend()\n",
      "\n",
      "plt.subplot(3,1,3)\n",
      "plt.ylabel(r'Energy $\\left\\langle E \\right\\rangle$')\n",
      "plt.xlabel(r'$\\alpha$')\n",
      "plt.plot(alphas, E_avg, 'r-p', label=r'$\\left\\langle E \\right\\rangle$ for a Harmonic oscillator')\n",
      "plt.plot(alphas_analytic, E_analytic(alphas_analytic), 'g', label=r'Analytic function for $\\left\\langle E \\right\\rangle$')\n",
      "plt.plot(min_x,min_y, 'ro',markersize=10)\n",
      "plt.errorbar(alphas, E_avg, E_var)\n",
      "plt.legend()\n",
      "plt.show()"
     ],
     "language": "python",
     "metadata": {},
     "outputs": [],
     "prompt_number": 13
    },
    {
     "cell_type": "heading",
     "level": 1,
     "metadata": {},
     "source": [
      "Hydrogen atom"
     ]
    },
    {
     "cell_type": "code",
     "collapsed": false,
     "input": [
      "# Hydrogen atom\n",
      "steps = 30000\n",
      "eq_steps = 4000\n",
      "N = 300\n",
      "N_alpha = 11\n",
      "alpha_min = 0.8\n",
      "alpha_max = 1.2\n",
      "alphas = np.linspace(alpha_min,alpha_max,N_alpha)\n",
      "E = np.zeros(steps)\n",
      "E_array = np.zeros((N_alpha,steps - eq_steps))"
     ],
     "language": "python",
     "metadata": {},
     "outputs": [],
     "prompt_number": 2
    },
    {
     "cell_type": "code",
     "collapsed": false,
     "input": [
      "# Hydrogen atom\n",
      "def transition_probability(r, r_new, alpha):\n",
      "    return np.exp(-2*alpha*(r_new-r))\n",
      "def E_local(r, alpha):\n",
      "    return -1.0/r-0.5*alpha*(alpha-2.0/r)"
     ],
     "language": "python",
     "metadata": {},
     "outputs": [],
     "prompt_number": 197
    },
    {
     "cell_type": "code",
     "collapsed": false,
     "input": [
      "# Hydrogen atom\n",
      "width = 1.0\n",
      "for i in range(len(alphas)):\n",
      "    x = np.random.rand(N,3)-.5 # postitions of the walkers\n",
      "    counter = 0\n",
      "    E = np.zeros(steps)\n",
      "    for step in range(steps):\n",
      "        rnd_uni = np.random.rand(N)\n",
      "        rnd_uni2 = np.random.rand(N,3) - 0.5\n",
      "        x_new = x + rnd_uni2 * width\n",
      "        r = np.sqrt(np.sum(x**2, axis = 1))\n",
      "        r_new = np.sqrt(np.sum(x_new**2, axis = 1))\n",
      "        indices = (rnd_uni < transition_probability(r, r_new, alphas[i]))\n",
      "        counter += np.sum(indices)\n",
      "        x[indices,:] = x_new[indices,:]\n",
      "        if (step > eq_steps):\n",
      "            E[step] = np.sum(E_local(r, alphas[i]))\n",
      "        if (step%100 == 0):\n",
      "            width *= counter / (50 * N)\n",
      "            counter = 0\n",
      "    E_array[i,] = E[eq_steps:steps]"
     ],
     "language": "python",
     "metadata": {},
     "outputs": [],
     "prompt_number": 198
    },
    {
     "cell_type": "code",
     "collapsed": false,
     "input": [
      "E_avg = np.mean(E_array, axis=1)/N\n",
      "E_var = np.var(E_array, axis=1)\n",
      "min_x_idx = np.argmin(E_avg)\n",
      "min_x = alphas[min_x_idx]\n",
      "min_y = E_avg[min_x_idx]\n",
      "\n",
      "plt.subplot(3,1,1)\n",
      "plt.ylabel(r'Energy $\\left\\langle E \\right\\rangle$')\n",
      "plt.xlabel(r'$\\alpha$')\n",
      "plt.plot(alphas, E_avg, 'r-p', label=r'$\\left\\langle E \\right\\rangle$ for a Hydrogen atom')\n",
      "plt.plot(min_x,min_y, 'ro',markersize=10)\n",
      "plt.legend()\n",
      "\n",
      "plt.subplot(3,1,2)\n",
      "plt.ylabel(r'Variance $\\left\\langle E^2 \\right\\rangle - \\left\\langle E \\right\\rangle^2$')\n",
      "plt.xlabel(r'$\\alpha$')\n",
      "plt.plot(alphas, E_var, 'r-p', label=r'$\\left\\langle E^2 \\right\\rangle - \\left\\langle E \\right\\rangle^2$ for a Hydrogen atom')\n",
      "plt.legend()\n",
      "\n",
      "plt.subplot(3,1,3)\n",
      "plt.ylabel(r'Energy $\\left\\langle E \\right\\rangle$')\n",
      "plt.xlabel(r'$\\alpha$')\n",
      "plt.plot(alphas, E_avg, 'r-p', label=r'$\\left\\langle E \\right\\rangle$ for a Hydrogen atom')\n",
      "plt.plot(min_x,min_y, 'ro',markersize=10)\n",
      "plt.errorbar(alphas, E_avg, E_var)\n",
      "plt.legend()\n",
      "plt.show()"
     ],
     "language": "python",
     "metadata": {},
     "outputs": [],
     "prompt_number": 199
    },
    {
     "cell_type": "heading",
     "level": 1,
     "metadata": {},
     "source": [
      "Helium"
     ]
    },
    {
     "cell_type": "code",
     "collapsed": false,
     "input": [
      "# Helium atom\n",
      "steps = 30000\n",
      "eq_steps = 4000\n",
      "N = 300\n",
      "N_alpha = 2\n",
      "alpha_min = 0.05\n",
      "alpha_max = 0.25\n",
      "alphas = np.linspace(alpha_min,alpha_max,N_alpha)\n",
      "E = np.zeros(steps)\n",
      "E_array = np.zeros((N_alpha,steps - eq_steps))"
     ],
     "language": "python",
     "metadata": {},
     "outputs": [],
     "prompt_number": 399
    },
    {
     "cell_type": "code",
     "collapsed": false,
     "input": [],
     "language": "python",
     "metadata": {},
     "outputs": [],
     "prompt_number": 399
    },
    {
     "cell_type": "code",
     "collapsed": false,
     "input": [
      "# Helium atom\n",
      "def r(x):\n",
      "    r1 = x[:,:,0]\n",
      "    r2 = x[:,:,1]\n",
      "    r12 = r1 - r2\n",
      "    r1_abs = np.linalg.norm(r1, axis=1)\n",
      "    r2_abs = np.linalg.norm(r2, axis=1)\n",
      "    r12_abs = np.linalg.norm(r12, axis=1)\n",
      "    return r1, r2, r12, r1_abs, r2_abs, r12_abs\n",
      "def tp(x, alpha):\n",
      "    r1, r2, r12, r1_abs, r2_abs, r12_abs = r(x)\n",
      "    return np.exp(-2*(r1_abs+r2_abs))*np.exp(r12_abs*0.5/(1+alpha*r12_abs))\n",
      "def E_local(x, alpha):\n",
      "    r1, r2, r12, r1_abs, r2_abs, r12_abs = r(x)\n",
      "    fac = 1/(1+alpha*r12_abs)\n",
      "    fac2 = np.sum(((r1.T/r1_abs).T-(r2.T/r2_abs).T)*r12 , axis = 1)\n",
      "    return -4 + 1/r12_abs*(fac2*fac**2 -fac**3 + 1) - 0.25*fac**4\n"
     ],
     "language": "python",
     "metadata": {},
     "outputs": [],
     "prompt_number": 400
    },
    {
     "cell_type": "code",
     "collapsed": false,
     "input": [
      "%%timeit\n",
      "# Helium atom\n",
      "width = 1.0\n",
      "for i in range(len(alphas)):\n",
      "    x = np.random.rand(N,3,2)-.5 # postitions of the walkers\n",
      "    counter = 0\n",
      "    E = np.zeros(steps)\n",
      "    for step in range(steps):\n",
      "        rnd_uni = np.random.rand(N)\n",
      "        rnd_uni2 = np.random.rand(N,3,2) - 0.5\n",
      "        x_new = x + rnd_uni2 * width\n",
      "        tp_ratio = (tp(x_new, alphas[i])/tp(x, alphas[i]))**2\n",
      "        indices = (rnd_uni < tp_ratio)\n",
      "        counter += np.sum(indices)\n",
      "        x[indices,:,:] = x_new[indices,:,:]\n",
      "        if (step >= eq_steps):\n",
      "            E[step] = np.sum(E_local(x, alphas[i]))\n",
      "        if (step%100 == 0):\n",
      "            width *= counter / (50 * N)\n",
      "            counter = 0\n",
      "    E_array[i,] = E[eq_steps:steps]"
     ],
     "language": "python",
     "metadata": {},
     "outputs": [
      {
       "output_type": "stream",
       "stream": "stdout",
       "text": [
        "1 loops, best of 3: 1min 6s per loop\n"
       ]
      }
     ],
     "prompt_number": 401
    },
    {
     "cell_type": "code",
     "collapsed": false,
     "input": [
      "E_avg = np.mean(E_array, axis=1)/N\n",
      "E_var = np.var(E_array, axis=1)\n",
      "print E_avg"
     ],
     "language": "python",
     "metadata": {},
     "outputs": [
      {
       "output_type": "stream",
       "stream": "stdout",
       "text": [
        "[-2.87154028 -2.87552604]\n"
       ]
      }
     ],
     "prompt_number": 178
    },
    {
     "cell_type": "code",
     "collapsed": false,
     "input": [
      "min_x_idx = np.argmin(E_avg)\n",
      "min_x = alphas[min_x_idx]\n",
      "min_y = E_avg[min_x_idx]\n",
      "\n",
      "plt.subplot(3,1,1)\n",
      "plt.ylabel(r'Energy $\\left\\langle E \\right\\rangle$')\n",
      "plt.xlabel(r'$\\alpha$')\n",
      "plt.plot(alphas, E_avg, 'r-p', label=r'$\\left\\langle E \\right\\rangle$ for a Helium atom')\n",
      "plt.plot(min_x,min_y, 'ro',markersize=10)\n",
      "plt.legend()\n",
      "\n",
      "plt.subplot(3,1,2)\n",
      "plt.ylabel(r'Variance $\\left\\langle E^2 \\right\\rangle - \\left\\langle E \\right\\rangle^2$')\n",
      "plt.xlabel(r'$\\alpha$')\n",
      "plt.plot(alphas, E_var, 'r-p', label=r'$\\left\\langle E^2 \\right\\rangle - \\left\\langle E \\right\\rangle^2$ for a Helium atom')\n",
      "plt.legend()\n",
      "\n",
      "plt.subplot(3,1,3)\n",
      "plt.ylabel(r'Energy $\\left\\langle E \\right\\rangle$')\n",
      "plt.xlabel(r'$\\alpha$')\n",
      "plt.plot(alphas, E_avg, 'r-p', label=r'$\\left\\langle E \\right\\rangle$ for a Helium atom')\n",
      "plt.plot(min_x,min_y, 'ro',markersize=10)\n",
      "plt.errorbar(alphas, E_avg, E_var)\n",
      "plt.legend()\n",
      "plt.show()"
     ],
     "language": "python",
     "metadata": {},
     "outputs": []
    },
    {
     "cell_type": "heading",
     "level": 1,
     "metadata": {},
     "source": [
      "MINIMUM EXPERIMENT"
     ]
    },
    {
     "cell_type": "code",
     "collapsed": false,
     "input": [
      "# Helium atom\n",
      "steps = 30000\n",
      "eq_steps = 4000\n",
      "N = 300"
     ],
     "language": "python",
     "metadata": {},
     "outputs": [],
     "prompt_number": 392
    },
    {
     "cell_type": "code",
     "collapsed": false,
     "input": [
      "# Theano implementation for the transition probability\n",
      "x = T.tensor3('x')\n",
      "x_new = T.tensor3('x_new')\n",
      "alpha = T.scalar('alpha')\n",
      "\n",
      "r1 = x[:,:,0]\n",
      "r2 = x[:,:,1]\n",
      "r1_new = x_new[:,:,0]\n",
      "r2_new = x_new[:,:,1]\n",
      "\n",
      "r12 = r1 - r2\n",
      "r1_abs = T.sqrt(T.sum(r1**2, axis=-1))\n",
      "r2_abs = T.sqrt(T.sum(r2**2, axis=-1))\n",
      "r12_abs = T.sqrt(T.sum(r12**2, axis=-1))\n",
      "tp = T.exp(-2*(r1_abs+r2_abs))*T.exp(r12_abs*0.5/(1+alpha*r12_abs))\n",
      "\n",
      "r12_new = r1_new - r2_new\n",
      "r1_abs_new = T.sqrt(T.sum(r1_new**2, axis=-1))\n",
      "r2_abs_new = T.sqrt(T.sum(r2_new**2, axis=-1))\n",
      "r12_abs_new = T.sqrt(T.sum(r12_new**2, axis=-1))\n",
      "tp_new = T.exp(-2*(r1_abs_new+r2_abs_new))*T.exp(r12_abs_new*0.5/(1+alpha*r12_abs_new))\n",
      "\n",
      "out = (tp_new/tp)**2\n",
      "\n",
      "tp = theano.function(inputs=[x, x_new, alpha], outputs=out)\n",
      "\n",
      "\n",
      "# Theano implementation for E_local\n",
      "x = T.tensor3('x')\n",
      "alpha = T.scalar('alpha')\n",
      "r1 = x[:,:,0]\n",
      "r2 = x[:,:,1]\n",
      "r12 = r1 - r2\n",
      "r1_abs = T.sqrt(T.sum(r1**2, axis=-1))\n",
      "r2_abs = T.sqrt(T.sum(r2**2, axis=-1))\n",
      "r12_abs = T.sqrt(T.sum(r12**2, axis=-1))\n",
      "fac = 1/(1+alpha*r12_abs)\n",
      "fac2 = T.sum( ((r1.T/r1_abs).T - (r2.T/r2_abs).T ) * (r12), axis = 1)\n",
      "out = T.sum(-4 + 1/r12_abs*(fac2*fac**2 -fac**3 + 1) - 0.25*fac**4)\n",
      "E_local = theano.function(inputs=[x, alpha], outputs=out)"
     ],
     "language": "python",
     "metadata": {},
     "outputs": [],
     "prompt_number": 393
    },
    {
     "cell_type": "code",
     "collapsed": false,
     "input": [
      "# Helium atom\n",
      "def mc(alpha):\n",
      "    width = 1.0\n",
      "    x = np.random.rand(N,3,2)-.5 # postitions of the walkers\n",
      "    counter = 0\n",
      "    E = np.zeros(steps)\n",
      "    for step in range(steps):\n",
      "        rnd_uni = np.random.rand(N)\n",
      "        rnd_uni2 = np.random.rand(N,3,2) - 0.5\n",
      "        x_new = x + rnd_uni2 * width\n",
      "        indices = (rnd_uni < tp(x, x_new, alpha).reshape(-1,) )\n",
      "        counter += np.sum(indices)\n",
      "        x[indices] = x_new[indices]\n",
      "        if (step >= eq_steps):\n",
      "            E[step] = E_local(x, alpha)\n",
      "        if (step%100 == 0):\n",
      "            width *= counter / (50 * N)\n",
      "            counter = 0\n",
      "    E = E[eq_steps:steps]\n",
      "    E_var = np.var(E)\n",
      "    return np.mean(E)/N"
     ],
     "language": "python",
     "metadata": {},
     "outputs": [],
     "prompt_number": 394
    },
    {
     "cell_type": "code",
     "collapsed": false,
     "input": [
      "alpha_min = 0.05\n",
      "alpha_max = 0.25\n",
      "N_alpha = 1\n",
      "alphas = np.linspace(alpha_min,alpha_max,N_alpha)\n",
      "energy = np.zeros(N_alpha)\n",
      "for i in range(len(alphas)):\n",
      "    energy[i] = mc(alphas[i])\n",
      "energy"
     ],
     "language": "python",
     "metadata": {},
     "outputs": [
      {
       "metadata": {},
       "output_type": "pyout",
       "prompt_number": 387,
       "text": [
        "array([-2.87053541])"
       ]
      }
     ],
     "prompt_number": 387
    },
    {
     "cell_type": "code",
     "collapsed": false,
     "input": [
      "plt.plot(alphas,energy)\n",
      "plt.show()"
     ],
     "language": "python",
     "metadata": {},
     "outputs": [],
     "prompt_number": 386
    },
    {
     "cell_type": "heading",
     "level": 1,
     "metadata": {},
     "source": [
      "END EXPERIMENT"
     ]
    },
    {
     "cell_type": "code",
     "collapsed": false,
     "input": [
      "res"
     ],
     "language": "python",
     "metadata": {},
     "outputs": [
      {
       "metadata": {},
       "output_type": "pyout",
       "prompt_number": 374,
       "text": [
        "  fun: -3.005058161391184e+25\n",
        "    x: -8.47213596413097\n",
        " nfev: 45"
       ]
      }
     ],
     "prompt_number": 374
    },
    {
     "cell_type": "code",
     "collapsed": false,
     "input": [
      "# Theano implementation for r vector\n",
      "r1 = T.matrix('r1')\n",
      "r2 = T.matrix('r2')\n",
      "r12 = r1 - r2\n",
      "r1_abs = T.sqrt(T.sum(r1**2, axis=1, keepdims=True))\n",
      "r2_abs = T.sqrt(T.sum(r2**2, axis=1, keepdims=True))\n",
      "r12_abs = T.sqrt(T.sum(r12**2, axis=1, keepdims=True))\n",
      "r = theano.function(inputs=[r1, r2], outputs=[r1_abs, r2_abs, r12_abs])"
     ],
     "language": "python",
     "metadata": {},
     "outputs": []
    },
    {
     "cell_type": "code",
     "collapsed": false,
     "input": [],
     "language": "python",
     "metadata": {},
     "outputs": [],
     "prompt_number": 7
    },
    {
     "cell_type": "code",
     "collapsed": false,
     "input": [],
     "language": "python",
     "metadata": {},
     "outputs": [],
     "prompt_number": 7
    },
    {
     "cell_type": "code",
     "collapsed": false,
     "input": [],
     "language": "python",
     "metadata": {},
     "outputs": [],
     "prompt_number": 7
    },
    {
     "cell_type": "code",
     "collapsed": false,
     "input": [],
     "language": "python",
     "metadata": {},
     "outputs": []
    }
   ],
   "metadata": {}
  }
 ]
}