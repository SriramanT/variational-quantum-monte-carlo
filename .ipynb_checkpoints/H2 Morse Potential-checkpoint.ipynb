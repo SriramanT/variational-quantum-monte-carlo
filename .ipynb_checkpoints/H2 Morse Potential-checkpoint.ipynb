{
 "metadata": {
  "name": "",
  "signature": "sha256:454d03a24e8b478a3f6af907f3e330f3089db34fa170e1a0c2b4ef94a956271a"
 },
 "nbformat": 3,
 "nbformat_minor": 0,
 "worksheets": [
  {
   "cells": [
    {
     "cell_type": "code",
     "collapsed": false,
     "input": [
      "import numpy as np\n",
      "import matplotlib.pyplot as plt\n",
      "from scipy.optimize import curve_fit"
     ],
     "language": "python",
     "metadata": {},
     "outputs": [],
     "prompt_number": 1
    },
    {
     "cell_type": "code",
     "collapsed": false,
     "input": [
      "E = np.loadtxt('VMC H2 (p)/E.dat')\n",
      "N, steps, eq_steps, N_s, minimization_steps = np.loadtxt('VMC H2 (p)/data_int.dat') \n",
      "s_min, s_max = np.loadtxt('VMC H2 (p)/data_float.dat') \n",
      "s_vector = np.loadtxt('VMC H2 (p)/s.dat') "
     ],
     "language": "python",
     "metadata": {},
     "outputs": [],
     "prompt_number": 2
    },
    {
     "cell_type": "code",
     "collapsed": false,
     "input": [
      "avg = np.mean(E, axis = 0)\n",
      "var = np.var(E, axis = 0)\n",
      "x = np.linspace(s_min,s_max,N_s)\n",
      "y_min = np.min(avg)\n",
      "y_max = np.max(avg[len(avg)/2:])\n",
      "s_min = s_vector[np.argmin(avg)]\n",
      "D = (y_min-y_max)"
     ],
     "language": "python",
     "metadata": {},
     "outputs": [],
     "prompt_number": 3
    },
    {
     "cell_type": "code",
     "collapsed": false,
     "input": [
      "# datablock!\n",
      "data_block_size = 50\n",
      "def data_block(x):\n",
      "    correct_length = len(x)-len(x)%data_block_size # make sure the list is an integer multiple of data_block_size\n",
      "    xx = x[:correct_length].reshape(-1,data_block_size)\n",
      "    avgs = np.mean(xx, axis = 0)\n",
      "    var = np.std(xx,axis = 0)\n",
      "    avg = np.mean(avgs, axis = 0)\n",
      "    error = np.std(avgs)/np.sqrt(np.size(avgs))\n",
      "    return avgs, var, avg, error\n",
      "\n",
      "avg = np.zeros(int(N_s))\n",
      "error = np.zeros(int(N_s))\n",
      "\n",
      "for i in range(int(N_s)):\n",
      "    avg[i] = data_block(E[:,i])[2]\n",
      "    error[i] = data_block(E[:,i])[3]"
     ],
     "language": "python",
     "metadata": {},
     "outputs": [],
     "prompt_number": 4
    },
    {
     "cell_type": "code",
     "collapsed": false,
     "input": [
      "plt.plot(s_vector,avg)\n",
      "plt.title(r'Morse potential for H$_2$')\n",
      "plt.xlim(0,s_max)\n",
      "plt.xlabel(r'Internuclear Seperation $r$ $(a_0)$')\n",
      "plt.ylabel(r'Energy $E$ $(\\frac{\\hbar^2}{m_{e}a_{0}^{2}})$')\n",
      "#plt.ylim(-1.3,0)\n",
      "#plt.errorbar(s_vector, avg, error)\n",
      "plt.hlines(y_min, 0, s_max, linestyles='dashed')\n",
      "plt.hlines(y_max, 0, s_max, linestyles='dashed')\n",
      "text_grote=16\n",
      "# de pijl voor sigma\n",
      "text_grote = 16\n",
      "plt.annotate(\n",
      "    '', xy=(0.8*s_max, y_max), xycoords = 'data',\n",
      "    xytext = (0.8*s_max, y_min), textcoords = 'data',\n",
      "    arrowprops = {'arrowstyle':'<->'})\n",
      "\n",
      "plt.annotate(\n",
      "    r'$D \\approx %s$' %round(D,3), xy=(0.82*s_max, (y_min-y_max)/2+y_max), xycoords = 'data',\n",
      "    xytext = (0, 0), textcoords = 'offset points', size=text_grote)\n",
      "plt.show()"
     ],
     "language": "python",
     "metadata": {},
     "outputs": [],
     "prompt_number": 5
    },
    {
     "cell_type": "code",
     "collapsed": false,
     "input": [
      "r_e = s_min\n",
      "def fit_func(r, D_e, a, r_e, const):\n",
      "    return D_e*(1.0-np.exp(-a*(r-r_e)))**2 + const\n",
      "\n",
      "params = curve_fit(fit_func, s_vector, avg, maxfev=10000)\n",
      "\n",
      "[D_e, a, r_e, const] = params[0]\n",
      "print('D_e:', D_e, 'a:', a, 'r_e', r_e, 'minimum energy:', const)"
     ],
     "language": "python",
     "metadata": {},
     "outputs": [
      {
       "output_type": "stream",
       "stream": "stdout",
       "text": [
        "('D_e:', 0.22277677636422669, 'a:', 0.96450797954830281, 'r_e', 1.442742091739271, 'minimum energy:', -1.1553007233411052)\n"
       ]
      }
     ],
     "prompt_number": 6
    },
    {
     "cell_type": "code",
     "collapsed": false,
     "input": [
      "plt.plot(s_vector,avg, 'bo')\n",
      "long_s = np.append(s_vector,s_vector+s_vector[-1:])\n",
      "plt.plot(long_s, fit_func(long_s, D_e, a, r_e, const), 'r-')\n",
      "plt.title(r'Morse potential for H$_2$')\n",
      "plt.xlabel(r'Internuclear Seperation $r$ $(a_0)$')\n",
      "plt.ylabel(r'Energy $E$ $(\\frac{\\hbar^2}{m_{e}a_{0}^{2}})$')\n",
      "plt.show()"
     ],
     "language": "python",
     "metadata": {},
     "outputs": [
      {
       "output_type": "stream",
       "stream": "stderr",
       "text": [
        "/usr/local/lib/python2.7/dist-packages/matplotlib/font_manager.py:1236: UserWarning: findfont: Font family ['Humor Sans', 'Comic Sans MS'] not found. Falling back to Bitstream Vera Sans\n",
        "  (prop.get_family(), self.defaultFamily[fontext]))\n",
        "/usr/local/lib/python2.7/dist-packages/matplotlib/font_manager.py:1246: UserWarning: findfont: Could not match :family=Bitstream Vera Sans:style=normal:variant=normal:weight=normal:stretch=normal:size=medium. Returning /usr/share/matplotlib/mpl-data/fonts/ttf/cmb10.ttf\n",
        "  UserWarning)\n",
        "/usr/local/lib/python2.7/dist-packages/matplotlib/font_manager.py:1246: UserWarning: findfont: Could not match :family=Bitstream Vera Sans:style=normal:variant=normal:weight=normal:stretch=normal:size=100.0. Returning /usr/share/matplotlib/mpl-data/fonts/ttf/cmb10.ttf\n",
        "  UserWarning)\n"
       ]
      },
      {
       "output_type": "stream",
       "stream": "stderr",
       "text": [
        "/usr/local/lib/python2.7/dist-packages/matplotlib/font_manager.py:1246: UserWarning: findfont: Could not match :family=Bitstream Vera Sans:style=normal:variant=normal:weight=normal:stretch=normal:size=large. Returning /usr/share/matplotlib/mpl-data/fonts/ttf/cmb10.ttf\n",
        "  UserWarning)\n"
       ]
      }
     ],
     "prompt_number": 8
    },
    {
     "cell_type": "code",
     "collapsed": false,
     "input": [
      "betas = np.loadtxt('VMC H2 (p)/beta.dat')\n",
      "np.mean(betas[14,])"
     ],
     "language": "python",
     "metadata": {},
     "outputs": [
      {
       "metadata": {},
       "output_type": "pyout",
       "prompt_number": 101,
       "text": [
        "0.36010619999999982"
       ]
      }
     ],
     "prompt_number": 101
    },
    {
     "cell_type": "code",
     "collapsed": false,
     "input": [],
     "language": "python",
     "metadata": {},
     "outputs": [],
     "prompt_number": 78
    },
    {
     "cell_type": "code",
     "collapsed": false,
     "input": [],
     "language": "python",
     "metadata": {},
     "outputs": []
    }
   ],
   "metadata": {}
  }
 ]
}