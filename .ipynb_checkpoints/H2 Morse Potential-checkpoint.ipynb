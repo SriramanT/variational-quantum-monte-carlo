{
 "metadata": {
  "name": "",
  "signature": "sha256:62e0665a44b9dcf504f13a85c1a0a6bd4cc448228e48421732ad41261fff804c"
 },
 "nbformat": 3,
 "nbformat_minor": 0,
 "worksheets": [
  {
   "cells": [
    {
     "cell_type": "code",
     "collapsed": false,
     "input": [
      "cd /home/bas/iccp/VMC/VMC\\ H2"
     ],
     "language": "python",
     "metadata": {},
     "outputs": []
    },
    {
     "cell_type": "code",
     "collapsed": false,
     "input": [
      "!make\n",
      "!./prog"
     ],
     "language": "python",
     "metadata": {},
     "outputs": []
    },
    {
     "cell_type": "code",
     "collapsed": false,
     "input": [
      "import numpy as np\n",
      "import matplotlib.pyplot as plt\n",
      "from scipy.optimize import curve_fit"
     ],
     "language": "python",
     "metadata": {},
     "outputs": [],
     "prompt_number": 4
    },
    {
     "cell_type": "code",
     "collapsed": false,
     "input": [
      "E = np.loadtxt('VMC H2/E.dat')\n",
      "N, steps, eq_steps, N_s, minimization_steps = np.loadtxt('VMC H2/data_int.dat') \n",
      "s_min, s_max = np.loadtxt('VMC H2/data_float.dat') \n",
      "s_vector = np.loadtxt('VMC H2/s.dat') "
     ],
     "language": "python",
     "metadata": {},
     "outputs": [],
     "prompt_number": 8
    },
    {
     "cell_type": "code",
     "collapsed": false,
     "input": [
      "avg = np.mean(E, axis = 0)\n",
      "var = np.var(E, axis = 0)\n",
      "x = np.linspace(s_min,s_max,N_s)\n",
      "y_min = np.min(avg)\n",
      "y_max = np.max(avg[len(avg)/2:])\n",
      "s_min = s_vector[np.argmin(avg)]\n",
      "D = (y_min-y_max)"
     ],
     "language": "python",
     "metadata": {},
     "outputs": [],
     "prompt_number": 9
    },
    {
     "cell_type": "code",
     "collapsed": false,
     "input": [
      "# datablock!\n",
      "data_block_size = 50\n",
      "def data_block(x):\n",
      "    correct_length = len(x)-len(x)%data_block_size # make sure the list is an integer multiple of data_block_size\n",
      "    xx = x[:correct_length].reshape(-1,data_block_size)\n",
      "    avgs = np.mean(xx, axis = 0)\n",
      "    var = np.std(xx,axis = 0)\n",
      "    avg = np.mean(avgs, axis = 0)\n",
      "    error = np.std(avgs)/np.sqrt(np.size(avgs))\n",
      "    return avgs, var, avg, error\n",
      "\n",
      "avg = np.zeros(int(N_s))\n",
      "error = np.zeros(int(N_s))\n",
      "\n",
      "for i in range(int(N_s)):\n",
      "    avg[i] = data_block(E[:,i])[2]\n",
      "    error[i] = data_block(E[:,i])[3]"
     ],
     "language": "python",
     "metadata": {},
     "outputs": [],
     "prompt_number": 10
    },
    {
     "cell_type": "code",
     "collapsed": false,
     "input": [
      "plt.plot(s_vector,avg)\n",
      "plt.title(r'Morse potential for H$_2$')\n",
      "plt.xlim(0,s_max)\n",
      "plt.xlabel(r'Internuclear Seperation $r$ $(a_0)$')\n",
      "plt.ylabel(r'Energy $E$ $(\\frac{\\hbar^2}{m_{e}a_{0}^{2}})$')\n",
      "#plt.ylim(-1.3,0)\n",
      "#plt.errorbar(s_vector, avg, error)\n",
      "plt.hlines(y_min, 0, s_max, linestyles='dashed')\n",
      "plt.hlines(y_max, 0, s_max, linestyles='dashed')\n",
      "text_grote=16\n",
      "# de pijl voor sigma\n",
      "text_grote = 16\n",
      "plt.annotate(\n",
      "    '', xy=(0.8*s_max, y_max), xycoords = 'data',\n",
      "    xytext = (0.8*s_max, y_min), textcoords = 'data',\n",
      "    arrowprops = {'arrowstyle':'<->'})\n",
      "\n",
      "plt.annotate(\n",
      "    r'$D \\approx %s$' %round(D,3), xy=(0.82*s_max, (y_min-y_max)/2+y_max), xycoords = 'data',\n",
      "    xytext = (0, 0), textcoords = 'offset points', size=text_grote)\n",
      "plt.show()"
     ],
     "language": "python",
     "metadata": {},
     "outputs": [],
     "prompt_number": 11
    },
    {
     "cell_type": "code",
     "collapsed": false,
     "input": [
      "r_e = s_min\n",
      "def fit_func(r, D_e, a, r_e, const):\n",
      "    return D_e*(1.0-np.exp(-a*(r-r_e)))**2 + const\n",
      "\n",
      "params = curve_fit(fit_func, s_vector, avg, maxfev=10000)\n",
      "\n",
      "[D_e, a, r_e, const] = params[0]\n",
      "print 'D_e:', D_e, 'a:', a, 'r_e', r_e, 'minimum energy:', const"
     ],
     "language": "python",
     "metadata": {},
     "outputs": [
      {
       "output_type": "stream",
       "stream": "stdout",
       "text": [
        "D_e: 0.222776776364 a: 0.964507979548 r_e 1.44274209174 minimum energy: -1.15530072334\n"
       ]
      }
     ],
     "prompt_number": 15
    },
    {
     "cell_type": "code",
     "collapsed": false,
     "input": [
      "plt.plot(s_vector,avg, 'bo')\n",
      "long_s = np.append(s_vector,s_vector+s_vector[-1:])\n",
      "plt.plot(long_s, fit_func(long_s, D_e, a, r_e, const), 'r-')\n",
      "plt.title(r'Morse potential for H$_2$')\n",
      "plt.xlabel(r'Internuclear Seperation $r$ $(a_0)$')\n",
      "plt.ylabel(r'Energy $E$ $(\\frac{\\hbar^2}{m_{e}a_{0}^{2}})$')\n",
      "plt.show()"
     ],
     "language": "python",
     "metadata": {},
     "outputs": [],
     "prompt_number": 14
    },
    {
     "cell_type": "code",
     "collapsed": false,
     "input": [],
     "language": "python",
     "metadata": {},
     "outputs": []
    }
   ],
   "metadata": {}
  }
 ]
}