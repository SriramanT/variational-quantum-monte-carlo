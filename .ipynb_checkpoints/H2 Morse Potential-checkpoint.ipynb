{
 "metadata": {
  "name": "",
  "signature": "sha256:0118b8dc3a495b70abfbce2c83a1e2be9193151308cf4b156e07ad3e41a32b3e"
 },
 "nbformat": 3,
 "nbformat_minor": 0,
 "worksheets": [
  {
   "cells": [
    {
     "cell_type": "code",
     "collapsed": false,
     "input": [
      "cd /home/bas/iccp/VMC/VMC\\ H2"
     ],
     "language": "python",
     "metadata": {},
     "outputs": []
    },
    {
     "cell_type": "code",
     "collapsed": false,
     "input": [
      "!make\n",
      "!./prog"
     ],
     "language": "python",
     "metadata": {},
     "outputs": []
    },
    {
     "cell_type": "code",
     "collapsed": false,
     "input": [
      "import numpy as np\n",
      "import matplotlib.pyplot as plt\n",
      "from scipy.optimize import curve_fit"
     ],
     "language": "python",
     "metadata": {},
     "outputs": [],
     "prompt_number": 1
    },
    {
     "cell_type": "code",
     "collapsed": false,
     "input": [
      "E = np.loadtxt('VMC H2/E.dat')\n",
      "E_all = np.loadtxt('VMC H2/E_all.dat')\n",
      "N, steps, eq_steps, N_s, minimization_steps = np.loadtxt('VMC H2/data_int.dat') \n",
      "s_min, s_max = np.loadtxt('VMC H2/data_float.dat') \n",
      "s_vector = np.loadtxt('VMC H2/s.dat') "
     ],
     "language": "python",
     "metadata": {},
     "outputs": [],
     "prompt_number": 63
    },
    {
     "cell_type": "code",
     "collapsed": false,
     "input": [
      "avg = np.mean(E, axis = 0)\n",
      "#avg = np.min(E_all, axis=0)\n",
      "var = np.var(E, axis = 0)\n",
      "x = np.linspace(s_min,s_max,N_s)\n",
      "y_min = np.min(avg)\n",
      "y_max = np.max(avg[len(avg)/2:])\n",
      "s_min = s_vector[np.argmin(avg)]\n",
      "D = (y_min-y_max)"
     ],
     "language": "python",
     "metadata": {},
     "outputs": [],
     "prompt_number": 64
    },
    {
     "cell_type": "code",
     "collapsed": false,
     "input": [
      "# datablock!\n",
      "data_block_size = 100\n",
      "def data_block(x):\n",
      "    correct_length = len(x)-len(x)%data_block_size # make sure the list is an integer multiple of data_block_size\n",
      "    xx = x[:correct_length].reshape(-1,data_block_size)\n",
      "    avgs = np.mean(xx, axis = 0)\n",
      "    var = np.std(xx,axis = 0)\n",
      "    avg = np.mean(avgs, axis = 0)\n",
      "    error = np.std(avgs)/np.sqrt(np.size(avgs))\n",
      "    return avgs, var, avg, error\n",
      "\n",
      "avg = np.zeros(int(N_s))\n",
      "error = np.zeros(int(N_s))\n",
      "\n",
      "for i in range(int(N_s)):\n",
      "    avg[i] = data_block(E[:,i])[2]\n",
      "    error[i] = data_block(E[:,i])[3]"
     ],
     "language": "python",
     "metadata": {},
     "outputs": [],
     "prompt_number": 73
    },
    {
     "cell_type": "code",
     "collapsed": false,
     "input": [
      "plt.plot(s_vector,avg)\n",
      "plt.title(r'Morse potential for H$_2$')\n",
      "plt.xlim(0,s_max)\n",
      "plt.xlabel(r'Internuclear Seperation $r$ $(a_0)$')\n",
      "plt.ylabel(r'Energy $E$ $(\\frac{\\hbar^2}{m_{e}a_{0}^{2}})$')\n",
      "#plt.ylim(-1.3,0)\n",
      "#plt.errorbar(s_vector, avg, error)\n",
      "plt.hlines(y_min, 0, s_max, linestyles='dashed')\n",
      "#plt.hlines(y_max, 0, s_max, linestyles='dashed')\n",
      "# de pijl voor sigma\n",
      "\"\"\"text_grote = 16\n",
      "plt.annotate(\n",
      "    '', xy=(0.8*s_max, y_max), xycoords = 'data',\n",
      "    xytext = (0.8*s_max, y_min), textcoords = 'data',\n",
      "    arrowprops = {'arrowstyle':'<->'})\n",
      "\n",
      "plt.annotate(\n",
      "    r'$D \\approx %s$' %round(D,3), xy=(0.82*s_max, (y_min-y_max)/2+y_max), xycoords = 'data',\n",
      "    xytext = (0, 0), textcoords = 'offset points', size=text_grote)\"\"\"\n",
      "plt.show()"
     ],
     "language": "python",
     "metadata": {},
     "outputs": [],
     "prompt_number": 62
    },
    {
     "cell_type": "code",
     "collapsed": false,
     "input": [
      "r_e = s_min\n",
      "def fit_func(r, D_e, a, r_e, const):\n",
      "    return D_e*(1.0-np.exp(-a*(r-r_e)))**2 + const\n",
      "\n",
      "popt, pcov = curve_fit(fit_func, s_vector, avg, maxfev=10000)\n",
      "\n",
      "[D_e, a, r_e, const] = popt\n",
      "print 'D_e:', D_e, 'a:', a, 'r_e', r_e, 'minimum energy:', const\n",
      "print np.sqrt(pcov.diagonal())"
     ],
     "language": "python",
     "metadata": {},
     "outputs": [
      {
       "output_type": "stream",
       "stream": "stdout",
       "text": [
        "D_e: 0.221977280889 a: 0.967106486443 r_e 1.44170044826 minimum energy: -1.15553905363\n",
        "[ 0.00236833  0.01173527  0.00575756  0.00119764]\n"
       ]
      }
     ],
     "prompt_number": 54
    },
    {
     "cell_type": "code",
     "collapsed": false,
     "input": [
      "plt.plot(s_vector,avg, 'bo', label='Original data')\n",
      "long_s = np.linspace(0,6,100)\n",
      "plt.plot(long_s, fit_func(long_s, D_e, a, r_e, const), 'r-', label='Fitted data')\n",
      "plt.title(r'Morse potential for H$_2$')\n",
      "plt.ylim(-1.2,-0.7)\n",
      "plt.xlabel(r'Internuclear Seperation $r$ $(a_0)$')\n",
      "plt.ylabel(r'Energy $E$ (Ha)')\n",
      "text_grote = 16\n",
      "plt.hlines(const, 0, 6, linestyles='dashed')\n",
      "plt.hlines(const+D_e, 0, 6, linestyles='dashed')\n",
      "plt.annotate(\n",
      "    '', xy=(1.2*s_max, const+D_e), xycoords = 'data',\n",
      "    xytext = (1.2*s_max, const), textcoords = 'data',\n",
      "    arrowprops = {'arrowstyle':'<->'})\n",
      "\n",
      "plt.annotate(\n",
      "    r'$D_e \\approx 0.221$', xy=(0.95*s_max, (y_min-y_max)/2+y_max), xycoords = 'data',\n",
      "    xytext = (0, 0), textcoords = 'offset points', size=text_grote)\n",
      "plt.legend()\n",
      "plt.show()"
     ],
     "language": "python",
     "metadata": {},
     "outputs": [],
     "prompt_number": 59
    },
    {
     "cell_type": "code",
     "collapsed": false,
     "input": [
      "plt.plot(s_vector,avg, '-p')\n",
      "plt.show()"
     ],
     "language": "python",
     "metadata": {},
     "outputs": [],
     "prompt_number": 67
    },
    {
     "cell_type": "code",
     "collapsed": false,
     "input": [
      "36117*6.63e-36*3e10/1.6e-19*27.2-1"
     ],
     "language": "python",
     "metadata": {},
     "outputs": [
      {
       "metadata": {},
       "output_type": "pyout",
       "prompt_number": 30,
       "text": [
        "70.197963997417389"
       ]
      }
     ],
     "prompt_number": 30
    },
    {
     "cell_type": "code",
     "collapsed": false,
     "input": [
      "from scipy import constants\n",
      "Har = constants.physical_constants['Hartree energy in eV'][0]\n",
      "print (D_e+1)/(constants.h*constants.c/constants.e*Har), np.sqrt(pcov.diagonal()[0])/(constants.h*constants.c/constants.e*Har)"
     ],
     "language": "python",
     "metadata": {},
     "outputs": [
      {
       "output_type": "stream",
       "stream": "stdout",
       "text": [
        "36219.8097216 70.1979639974\n"
       ]
      }
     ],
     "prompt_number": 32
    },
    {
     "cell_type": "code",
     "collapsed": false,
     "input": [
      "print s_vector[3], avg[3], error[3]"
     ],
     "language": "python",
     "metadata": {},
     "outputs": [
      {
       "output_type": "stream",
       "stream": "stdout",
       "text": [
        "1.405 -1.1510939956 1.49636170733e-05\n"
       ]
      }
     ],
     "prompt_number": 74
    },
    {
     "cell_type": "code",
     "collapsed": false,
     "input": [
      "1.151093(14), 0.000014"
     ],
     "language": "python",
     "metadata": {},
     "outputs": [
      {
       "metadata": {},
       "output_type": "pyout",
       "prompt_number": 77,
       "text": [
        "(1.151, 1.4e-05)"
       ]
      }
     ],
     "prompt_number": 77
    },
    {
     "cell_type": "code",
     "collapsed": false,
     "input": [
      "(1-36117.0/36219.0)*100"
     ],
     "language": "python",
     "metadata": {},
     "outputs": [
      {
       "metadata": {},
       "output_type": "pyout",
       "prompt_number": 80,
       "text": [
        "0.2816201441232513"
       ]
      }
     ],
     "prompt_number": 80
    },
    {
     "cell_type": "code",
     "collapsed": false,
     "input": [],
     "language": "python",
     "metadata": {},
     "outputs": []
    }
   ],
   "metadata": {}
  }
 ]
}