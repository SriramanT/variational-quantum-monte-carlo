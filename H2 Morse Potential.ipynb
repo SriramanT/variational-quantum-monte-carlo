{
 "cells": [
  {
   "cell_type": "markdown",
   "metadata": {},
   "source": [
    "# H2 Morse Potential"
   ]
  },
  {
   "cell_type": "markdown",
   "metadata": {},
   "source": [
    "Find the whole program at https://github.com/basnijholt/VMC"
   ]
  },
  {
   "cell_type": "code",
   "execution_count": 5,
   "metadata": {
    "collapsed": false
   },
   "outputs": [],
   "source": [
    "import numpy as np\n",
    "import matplotlib.pyplot as plt\n",
    "from scipy.optimize import curve_fit, brentq\n",
    "%matplotlib inline"
   ]
  },
  {
   "cell_type": "code",
   "execution_count": 2,
   "metadata": {
    "collapsed": false
   },
   "outputs": [],
   "source": [
    "E = np.loadtxt('VMC H2/E.dat')\n",
    "E_all = np.loadtxt('VMC H2/E_all.dat')\n",
    "N, steps, eq_steps, N_s, minimization_steps = np.loadtxt('VMC H2/data_int.dat') \n",
    "s_min, s_max = np.loadtxt('VMC H2/data_float.dat') \n",
    "s_vector = np.loadtxt('VMC H2/s.dat') "
   ]
  },
  {
   "cell_type": "code",
   "execution_count": 3,
   "metadata": {
    "collapsed": false
   },
   "outputs": [
    {
     "name": "stderr",
     "output_type": "stream",
     "text": [
      "/home/bnijholt/anaconda3/lib/python3.5/site-packages/ipykernel/__main__.py:6: VisibleDeprecationWarning: using a non-integer number instead of an integer will result in an error in the future\n"
     ]
    }
   ],
   "source": [
    "#avg = np.mean(E, axis = 0)\n",
    "avg = np.min(E_all, axis=0)\n",
    "var = np.var(E, axis = 0)\n",
    "x = np.linspace(s_min,s_max,N_s)\n",
    "y_min = np.min(avg)\n",
    "y_max = np.max(avg[len(avg)/2:])\n",
    "s_min = s_vector[np.argmin(avg)]\n",
    "D = (y_min-y_max)"
   ]
  },
  {
   "cell_type": "code",
   "execution_count": 6,
   "metadata": {
    "collapsed": false
   },
   "outputs": [
    {
     "data": {
      "image/png": "[encoded data removed]",
      "text/plain": [
       "<matplotlib.figure.Figure at 0x7f6e8dc6a898>"
      ]
     },
     "metadata": {},
     "output_type": "display_data"
    }
   ],
   "source": [
    "# fast non fancy plot\n",
    "plt.plot(s_vector,avg, '-p')\n",
    "plt.show()"
   ]
  },
  {
   "cell_type": "code",
   "execution_count": 7,
   "metadata": {
    "collapsed": false
   },
   "outputs": [],
   "source": [
    "# datablock\n",
    "data_block_size = 100\n",
    "def data_block(x):\n",
    "    correct_length = len(x)-len(x)%data_block_size # make sure the list is an integer multiple of data_block_size\n",
    "    xx = x[:correct_length].reshape(-1,data_block_size)\n",
    "    avgs = np.mean(xx, axis = 0)\n",
    "    var = np.std(xx,axis = 0)\n",
    "    avg = np.mean(avgs, axis = 0)\n",
    "    error = np.std(avgs)/np.sqrt(np.size(avgs))\n",
    "    return avgs, var, avg, error\n",
    "\n",
    "avg = np.zeros(int(N_s))\n",
    "error = np.zeros(int(N_s))\n",
    "\n",
    "for i in range(int(N_s)):\n",
    "    avg[i] = data_block(E[:,i])[2]\n",
    "    error[i] = data_block(E[:,i])[3]"
   ]
  },
  {
   "cell_type": "markdown",
   "metadata": {},
   "source": [
    "# Fitting the data to the Morse potential and find the spectrum"
   ]
  },
  {
   "cell_type": "code",
   "execution_count": 9,
   "metadata": {
    "collapsed": false
   },
   "outputs": [
    {
     "name": "stdout",
     "output_type": "stream",
     "text": [
      "D_e: 0.349708450087 a: 0.735882020509 r_e 1.61182703519 minimum energy: -1.16979204679\n",
      "[ 0.0172305   0.03819248  0.04071281  0.01051653]\n"
     ]
    }
   ],
   "source": [
    "r_e = s_min\n",
    "def V(r, D_e, a, r_e, const):\n",
    "    return D_e*(1.0-np.exp(-a*(r-r_e)))**2 + const\n",
    "\n",
    "popt, pcov = curve_fit(V, s_vector, avg, maxfev=10000)\n",
    "\n",
    "[D_e, a, r_e, const] = popt\n",
    "print('D_e:', D_e, 'a:', a, 'r_e', r_e, 'minimum energy:', const)\n",
    "print(np.sqrt(pcov.diagonal()))\n",
    "\n",
    "# the spectrum\n",
    "mu = 916.57\n",
    "w_0 = a*np.sqrt(2*D_e/mu)\n",
    "delta = D_e/w_0\n",
    "v_max = int(2*D_e/w_0)\n",
    "def e_v(v):\n",
    "    return w_0*(v+0.5)-w_0**2/(4*D_e)*(v+0.5)**2+const\n",
    "\n",
    "# find where to draw the lines for the spectrum\n",
    "def roots(x):\n",
    "    return V(x, D_e, a, r_e, const)-e_v(i)\n",
    "def find_left():\n",
    "    return brentq(roots, 0.0, r_e)\n",
    "def find_right():\n",
    "    return brentq(roots, r_e,1000)"
   ]
  },
  {
   "cell_type": "markdown",
   "metadata": {},
   "source": [
    "# The constants in units of cm$^{-1}$"
   ]
  },
  {
   "cell_type": "code",
   "execution_count": 12,
   "metadata": {
    "collapsed": false
   },
   "outputs": [
    {
     "name": "stdout",
     "output_type": "stream",
     "text": [
      "40005.8008431 510.717525502\n"
     ]
    }
   ],
   "source": [
    "from scipy import constants\n",
    "#36117*6.63e-36*3e10/1.6e-19*27.2-1\n",
    "Har = constants.physical_constants['Hartree energy in eV'][0]\n",
    "print((D_e+1)/(constants.h*constants.c/constants.e*Har), \n",
    "      np.sqrt(pcov.diagonal()[0])/(constants.h*constants.c/constants.e*Har))"
   ]
  },
  {
   "cell_type": "markdown",
   "metadata": {},
   "source": [
    "# Morse potential with spectrum"
   ]
  },
  {
   "cell_type": "code",
   "execution_count": 13,
   "metadata": {
    "collapsed": false
   },
   "outputs": [
    {
     "data": {
      "image/png": "[encoded data removed]",
      "text/plain": [
       "<matplotlib.figure.Figure at 0x7f6e8de7da20>"
      ]
     },
     "metadata": {},
     "output_type": "display_data"
    }
   ],
   "source": [
    "s_m = 6\n",
    "plt.plot(s_vector,avg, 'bo', label='Original data')\n",
    "long_s = np.linspace(0,s_m,100)\n",
    "plt.plot(long_s, V(long_s, D_e, a, r_e, const), 'r-', label='Fitted data')\n",
    "plt.title(r'Morse potential for H$_2$ with vibrational energy spectrum')\n",
    "plt.ylim(-1.2,-0.85)\n",
    "plt.xlim(0,s_m)\n",
    "plt.xlabel(r'Internuclear Seperation $r$ $(a_0)$')\n",
    "plt.ylabel(r'Energy $E$ (Ha)')\n",
    "text_grote = 16\n",
    "plt.hlines(const, 0, s_m, linestyles='dashed')\n",
    "i = 0\n",
    "plt.hlines(e_v(0), find_right()+0.55, s_m, linestyles='dashed')\n",
    "plt.hlines(const+D_e, 0, s_m, linestyles='dashed')\n",
    "\n",
    "for i in range(v_max):\n",
    "    right = find_right()\n",
    "    left = find_left()\n",
    "    plt.hlines(e_v(i), left, right, linestyles='solid', alpha=0.5)\n",
    "    if i < 5:\n",
    "        plt.annotate(\n",
    "            r'$v = %s$' %i, xy=(right+0.1, V(right, D_e, a, r_e, const)-.002), xycoords = 'data',\n",
    "            xytext = (0, 0), textcoords = 'offset points', size=text_grote)\n",
    "\n",
    "plt.annotate(\n",
    "    '', xy=(1.2*s_max, const+D_e), xycoords = 'data',\n",
    "    xytext = (1.2*s_max, const), textcoords = 'data',\n",
    "    arrowprops = {'arrowstyle':'<->'})\n",
    "\n",
    "plt.annotate(\n",
    "    r'$D_e$', xy=(1.2*s_max, (y_min-y_max)/2+y_max), xycoords = 'data',\n",
    "    xytext = (0, 0), textcoords = 'offset points', size=text_grote)\n",
    "\n",
    "plt.annotate(\n",
    "    '', xy=(1.1*s_max, const+D_e), xycoords = 'data',\n",
    "    xytext = (1.1*s_max, e_v(0)), textcoords = 'data',\n",
    "    arrowprops = {'arrowstyle':'<->'})\n",
    "\n",
    "plt.annotate(\n",
    "    r'$D_0$', xy=(1.1*s_max, (y_min-y_max)/2+y_max), xycoords = 'data',\n",
    "    xytext = (0, 0), textcoords = 'offset points', size=text_grote)\n",
    "\n",
    "plt.legend()\n",
    "plt.show()"
   ]
  }
 ],
 "metadata": {
  "kernelspec": {
   "display_name": "Python 3",
   "language": "python",
   "name": "python3"
  },
  "language_info": {
   "codemirror_mode": {
    "name": "ipython",
    "version": 3
   },
   "file_extension": ".py",
   "mimetype": "text/x-python",
   "name": "python",
   "nbconvert_exporter": "python",
   "pygments_lexer": "ipython3",
   "version": "3.5.1"
  }
 },
 "nbformat": 4,
 "nbformat_minor": 0
}
