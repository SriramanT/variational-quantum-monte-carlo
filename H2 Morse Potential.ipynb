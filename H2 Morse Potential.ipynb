{
 "metadata": {
  "name": "",
  "signature": "sha256:9e0aa7dde9dffcf3ee06c437584f2796ec810119f4dadab4b06915e5e2a503a3"
 },
 "nbformat": 3,
 "nbformat_minor": 0,
 "worksheets": [
  {
   "cells": [
    {
     "cell_type": "heading",
     "level": 1,
     "metadata": {},
     "source": [
      "H2 Morse Potential"
     ]
    },
    {
     "cell_type": "markdown",
     "metadata": {},
     "source": [
      "Find the whole program at https://github.com/basnijholt/VMC"
     ]
    },
    {
     "cell_type": "code",
     "collapsed": false,
     "input": [
      "import numpy as np\n",
      "import matplotlib.pyplot as plt\n",
      "from scipy.optimize import curve_fit, brentq"
     ],
     "language": "python",
     "metadata": {},
     "outputs": [],
     "prompt_number": 1
    },
    {
     "cell_type": "code",
     "collapsed": false,
     "input": [
      "E = np.loadtxt('VMC H2/E.dat')\n",
      "E_all = np.loadtxt('VMC H2/E_all.dat')\n",
      "N, steps, eq_steps, N_s, minimization_steps = np.loadtxt('VMC H2/data_int.dat') \n",
      "s_min, s_max = np.loadtxt('VMC H2/data_float.dat') \n",
      "s_vector = np.loadtxt('VMC H2/s.dat') "
     ],
     "language": "python",
     "metadata": {},
     "outputs": [],
     "prompt_number": 3
    },
    {
     "cell_type": "code",
     "collapsed": false,
     "input": [
      "#avg = np.mean(E, axis = 0)\n",
      "avg = np.min(E_all, axis=0)\n",
      "var = np.var(E, axis = 0)\n",
      "x = np.linspace(s_min,s_max,N_s)\n",
      "y_min = np.min(avg)\n",
      "y_max = np.max(avg[len(avg)/2:])\n",
      "s_min = s_vector[np.argmin(avg)]\n",
      "D = (y_min-y_max)"
     ],
     "language": "python",
     "metadata": {},
     "outputs": [],
     "prompt_number": 18
    },
    {
     "cell_type": "code",
     "collapsed": false,
     "input": [
      "# fast non fancy plot\n",
      "plt.plot(s_vector,avg, '-p')\n",
      "plt.show()"
     ],
     "language": "python",
     "metadata": {},
     "outputs": [],
     "prompt_number": 20
    },
    {
     "cell_type": "code",
     "collapsed": false,
     "input": [
      "# datablock\n",
      "data_block_size = 100\n",
      "def data_block(x):\n",
      "    correct_length = len(x)-len(x)%data_block_size # make sure the list is an integer multiple of data_block_size\n",
      "    xx = x[:correct_length].reshape(-1,data_block_size)\n",
      "    avgs = np.mean(xx, axis = 0)\n",
      "    var = np.std(xx,axis = 0)\n",
      "    avg = np.mean(avgs, axis = 0)\n",
      "    error = np.std(avgs)/np.sqrt(np.size(avgs))\n",
      "    return avgs, var, avg, error\n",
      "\n",
      "avg = np.zeros(int(N_s))\n",
      "error = np.zeros(int(N_s))\n",
      "\n",
      "for i in range(int(N_s)):\n",
      "    avg[i] = data_block(E[:,i])[2]\n",
      "    error[i] = data_block(E[:,i])[3]"
     ],
     "language": "python",
     "metadata": {},
     "outputs": [],
     "prompt_number": 14
    },
    {
     "cell_type": "heading",
     "level": 1,
     "metadata": {},
     "source": [
      "Fitting the data to the Morse potential and find the spectrum"
     ]
    },
    {
     "cell_type": "code",
     "collapsed": false,
     "input": [
      "r_e = s_min\n",
      "def V(r, D_e, a, r_e, const):\n",
      "    return D_e*(1.0-np.exp(-a*(r-r_e)))**2 + const\n",
      "\n",
      "popt, pcov = curve_fit(V, s_vector, avg, maxfev=10000)\n",
      "\n",
      "[D_e, a, r_e, const] = popt\n",
      "print 'D_e:', D_e, 'a:', a, 'r_e', r_e, 'minimum energy:', const\n",
      "print np.sqrt(pcov.diagonal())\n",
      "\n",
      "# the spectrum\n",
      "mu = 916.57\n",
      "w_0 = a*np.sqrt(2*D_e/mu)\n",
      "delta = D_e/w_0\n",
      "v_max = int(2*D_e/w_0)\n",
      "def e_v(v):\n",
      "    return w_0*(v+0.5)-w_0**2/(4*D_e)*(v+0.5)**2+const\n",
      "\n",
      "# find where to draw the lines for the spectrum\n",
      "def roots(x):\n",
      "    return V(x, D_e, a, r_e, const)-e_v(i)\n",
      "def find_left():\n",
      "    return brentq(roots, 0.0, r_e)\n",
      "def find_right():\n",
      "    return brentq(roots, r_e,1000)"
     ],
     "language": "python",
     "metadata": {},
     "outputs": [
      {
       "output_type": "stream",
       "stream": "stdout",
       "text": [
        "D_e: 0.224259545818 a: 1.0898379794 r_e 1.40228338746 minimum energy: -1.16664579728\n",
        "[ 0.00490549  0.01963497  0.01242558  0.00318926]\n"
       ]
      }
     ],
     "prompt_number": 21
    },
    {
     "cell_type": "heading",
     "level": 1,
     "metadata": {},
     "source": [
      "The constants in units of cm$^{-1}$"
     ]
    },
    {
     "cell_type": "code",
     "collapsed": false,
     "input": [
      "from scipy import constants\n",
      "#36117*6.63e-36*3e10/1.6e-19*27.2-1\n",
      "Har = constants.physical_constants['Hartree energy in eV'][0]\n",
      "print (D_e+1)/(constants.h*constants.c/constants.e*Har), np.sqrt(pcov.diagonal()[0])/(constants.h*constants.c/constants.e*Har)"
     ],
     "language": "python",
     "metadata": {},
     "outputs": [
      {
       "output_type": "stream",
       "stream": "stdout",
       "text": [
        "36704.6126506 142.283002287\n"
       ]
      }
     ],
     "prompt_number": 7
    },
    {
     "cell_type": "heading",
     "level": 1,
     "metadata": {},
     "source": [
      "Morse potential with spectrum"
     ]
    },
    {
     "cell_type": "code",
     "collapsed": true,
     "input": [
      "s_m = 6\n",
      "plt.plot(s_vector,avg, 'bo', label='Original data')\n",
      "long_s = np.linspace(0,s_m,100)\n",
      "plt.plot(long_s, V(long_s, D_e, a, r_e, const), 'r-', label='Fitted data')\n",
      "plt.title(r'Morse potential for H$_2$ with vibrational energy spectrum')\n",
      "plt.ylim(-1.2,-0.85)\n",
      "plt.xlim(0,s_m)\n",
      "plt.xlabel(r'Internuclear Seperation $r$ $(a_0)$')\n",
      "plt.ylabel(r'Energy $E$ (Ha)')\n",
      "text_grote = 16\n",
      "plt.hlines(const, 0, s_m, linestyles='dashed')\n",
      "i = 0\n",
      "plt.hlines(e_v(0), find_right()+0.55, s_m, linestyles='dashed')\n",
      "plt.hlines(const+D_e, 0, s_m, linestyles='dashed')\n",
      "\n",
      "for i in range(v_max):\n",
      "    right = find_right()\n",
      "    left = find_left()\n",
      "    plt.hlines(e_v(i), left, right, linestyles='solid', alpha=0.5)\n",
      "    if i < 5:\n",
      "        plt.annotate(\n",
      "            r'$v = %s$' %i, xy=(right+0.1, V(right, D_e, a, r_e, const)-.002), xycoords = 'data',\n",
      "            xytext = (0, 0), textcoords = 'offset points', size=text_grote)\n",
      "\n",
      "plt.annotate(\n",
      "    '', xy=(1.2*s_max, const+D_e), xycoords = 'data',\n",
      "    xytext = (1.2*s_max, const), textcoords = 'data',\n",
      "    arrowprops = {'arrowstyle':'<->'})\n",
      "\n",
      "plt.annotate(\n",
      "    r'$D_e$', xy=(1.2*s_max, (y_min-y_max)/2+y_max), xycoords = 'data',\n",
      "    xytext = (0, 0), textcoords = 'offset points', size=text_grote)\n",
      "\n",
      "plt.annotate(\n",
      "    '', xy=(1.1*s_max, const+D_e), xycoords = 'data',\n",
      "    xytext = (1.1*s_max, e_v(0)), textcoords = 'data',\n",
      "    arrowprops = {'arrowstyle':'<->'})\n",
      "\n",
      "plt.annotate(\n",
      "    r'$D_0$', xy=(1.1*s_max, (y_min-y_max)/2+y_max), xycoords = 'data',\n",
      "    xytext = (0, 0), textcoords = 'offset points', size=text_grote)\n",
      "\n",
      "plt.legend()\n",
      "plt.show()"
     ],
     "language": "python",
     "metadata": {},
     "outputs": [],
     "prompt_number": 22
    },
    {
     "cell_type": "code",
     "collapsed": false,
     "input": [],
     "language": "python",
     "metadata": {},
     "outputs": []
    }
   ],
   "metadata": {}
  }
 ]
}